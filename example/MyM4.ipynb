{
 "cells": [
  {
   "cell_type": "markdown",
   "metadata": {},
   "source": [
    "[M4 网上参考](https://blog.csdn.net/Timekeeperl/article/details/50738164?spm=1001.2101.3001.6650.1&utm_medium=distribute.pc_relevant.none-task-blog-2%7Edefault%7ECTRLIST%7Edefault-1.no_search_link&depth_1-utm_source=distribute.pc_relevant.none-task-blog-2%7Edefault%7ECTRLIST%7Edefault-1.no_search_link&utm_relevant_index=2)\n",
    "\n",
    "[GNU M4资料](https://www.gnu.org/software/m4/manual/m4.html)\n"
   ]
  },
  {
   "cell_type": "code",
   "execution_count": 5,
   "metadata": {},
   "outputs": [
    {
     "data": {
      "text/plain": [
       "\r\n",
       "Hello World!\r\n",
       "欢迎进入中文世界!\r\n"
      ]
     },
     "metadata": {
      "text/plain": {}
     },
     "output_type": "display_data"
    }
   ],
   "source": [
    "## ---------------------------\n",
    "## %runinterm\n",
    "## %term:mintty\n",
    "## %term:c:\\Windows\\System32\\cmd.exe /c start \n",
    "## %cflags: -o src/test.exe\n",
    "## %ldflags:\n",
    "## ----------------------------------\n",
    "##%overwritefile\n",
    "##%file:src/test.m4\n",
    "## %args:test\n",
    "## %noruncode\n",
    "##%log:0\n",
    "## ----------------------------------\n",
    "divert(-1)\n",
    "define(say_hello_world, Hello World!)\n",
    "define(say_chinese_world, 欢迎进入中文世界!)\n",
    "divert(0)\n",
    "say_hello_world\n",
    "say_chinese_world"
   ]
  },
  {
   "cell_type": "code",
   "execution_count": 6,
   "metadata": {},
   "outputs": [
    {
     "data": {
      "text/plain": [
       "Hello World!\r\n"
      ]
     },
     "metadata": {
      "text/plain": {}
     },
     "output_type": "display_data"
    }
   ],
   "source": [
    "divert(-1)\n",
    "define(say_hello_world, Hello World!)\n",
    "divert(0)say_hello_world"
   ]
  },
  {
   "cell_type": "code",
   "execution_count": 9,
   "metadata": {},
   "outputs": [
    {
     "data": {
      "text/plain": [
       "Hello World!\r\n"
      ]
     },
     "metadata": {
      "text/plain": {}
     },
     "output_type": "display_data"
    }
   ],
   "source": [
    "divert(-1)\n",
    "define(say_hello_world, Hello World!)\n",
    "divert(10)say_hello_world"
   ]
  },
  {
   "cell_type": "code",
   "execution_count": 10,
   "metadata": {},
   "outputs": [
    {
     "data": {
      "text/plain": [
       "\r\n",
       "A1 # VERSION `quote' unmatched`\r\n"
      ]
     },
     "metadata": {
      "text/plain": {}
     },
     "output_type": "display_data"
    }
   ],
   "source": [
    "define(`VERSION',`A1')\n",
    "VERSION # VERSION `quote' unmatched`"
   ]
  }
 ],
 "metadata": {
  "kernelspec": {
   "display_name": "MyM4",
   "language": "m4",
   "name": "mym4"
  },
  "language_info": {
   "name": "m4"
  },
  "orig_nbformat": 4
 },
 "nbformat": 4,
 "nbformat_minor": 2
}
